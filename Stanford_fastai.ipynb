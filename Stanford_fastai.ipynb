{
  "nbformat": 4,
  "nbformat_minor": 0,
  "metadata": {
    "colab": {
      "name": "Stanford_fastai.ipynb",
      "provenance": [],
      "collapsed_sections": [],
      "machine_shape": "hm"
    },
    "kernelspec": {
      "name": "python3",
      "display_name": "Python 3"
    },
    "accelerator": "GPU"
  },
  "cells": [
    {
      "cell_type": "code",
      "metadata": {
        "colab": {
          "base_uri": "https://localhost:8080/"
        },
        "id": "beJN8KWRY4I5",
        "outputId": "d01f3e61-ca72-49b4-adcc-d8d5797165f0"
      },
      "source": [
        "from google.colab import drive\n",
        "drive.mount('/content/drive')"
      ],
      "execution_count": null,
      "outputs": [
        {
          "output_type": "stream",
          "text": [
            "Mounted at /content/drive\n"
          ],
          "name": "stdout"
        }
      ]
    },
    {
      "cell_type": "code",
      "metadata": {
        "colab": {
          "base_uri": "https://localhost:8080/"
        },
        "id": "TRMY5CLEn0dk",
        "outputId": "ffb0c66c-6384-4b06-c007-65accde2c0cd"
      },
      "source": [
        "pip install fastai==0.7.0 --no-deps"
      ],
      "execution_count": null,
      "outputs": [
        {
          "output_type": "stream",
          "text": [
            "Collecting fastai==0.7.0\n",
            "\u001b[?25l  Downloading https://files.pythonhosted.org/packages/50/6d/9d0d6e17a78b0598d5e8c49a0d03ffc7ff265ae62eca3e2345fab14edb9b/fastai-0.7.0-py3-none-any.whl (112kB)\n",
            "\r\u001b[K     |███                             | 10kB 17.0MB/s eta 0:00:01\r\u001b[K     |█████▉                          | 20kB 23.2MB/s eta 0:00:01\r\u001b[K     |████████▊                       | 30kB 26.7MB/s eta 0:00:01\r\u001b[K     |███████████▋                    | 40kB 20.5MB/s eta 0:00:01\r\u001b[K     |██████████████▌                 | 51kB 17.5MB/s eta 0:00:01\r\u001b[K     |█████████████████▍              | 61kB 19.1MB/s eta 0:00:01\r\u001b[K     |████████████████████▍           | 71kB 12.7MB/s eta 0:00:01\r\u001b[K     |███████████████████████▎        | 81kB 13.5MB/s eta 0:00:01\r\u001b[K     |██████████████████████████▏     | 92kB 13.7MB/s eta 0:00:01\r\u001b[K     |█████████████████████████████   | 102kB 13.1MB/s eta 0:00:01\r\u001b[K     |████████████████████████████████| 112kB 13.1MB/s eta 0:00:01\r\u001b[K     |████████████████████████████████| 122kB 13.1MB/s \n",
            "\u001b[?25hInstalling collected packages: fastai\n",
            "  Found existing installation: fastai 1.0.61\n",
            "    Uninstalling fastai-1.0.61:\n",
            "      Successfully uninstalled fastai-1.0.61\n",
            "Successfully installed fastai-0.7.0\n"
          ],
          "name": "stdout"
        }
      ]
    },
    {
      "cell_type": "code",
      "metadata": {
        "id": "5b7QTm7yZe91"
      },
      "source": [
        "import fastai"
      ],
      "execution_count": null,
      "outputs": []
    },
    {
      "cell_type": "code",
      "metadata": {
        "id": "UIY4S3p4iAwU"
      },
      "source": [
        "!python prepare_data.py"
      ],
      "execution_count": null,
      "outputs": []
    },
    {
      "cell_type": "code",
      "metadata": {
        "id": "tgCgUB4Sk7l8"
      },
      "source": [
        "pip freeze | grep bcolz"
      ],
      "execution_count": null,
      "outputs": []
    },
    {
      "cell_type": "code",
      "metadata": {
        "colab": {
          "base_uri": "https://localhost:8080/"
        },
        "id": "h2iMJ-d0l0R5",
        "outputId": "67c766f6-5b4a-458a-c744-4b50ebcd92f0"
      },
      "source": [
        "pip install fire "
      ],
      "execution_count": null,
      "outputs": [
        {
          "output_type": "stream",
          "text": [
            "Collecting fire\n",
            "\u001b[?25l  Downloading https://files.pythonhosted.org/packages/11/07/a119a1aa04d37bc819940d95ed7e135a7dcca1c098123a3764a6dcace9e7/fire-0.4.0.tar.gz (87kB)\n",
            "\r\u001b[K     |███▊                            | 10kB 23.6MB/s eta 0:00:01\r\u001b[K     |███████▌                        | 20kB 28.4MB/s eta 0:00:01\r\u001b[K     |███████████▏                    | 30kB 24.7MB/s eta 0:00:01\r\u001b[K     |███████████████                 | 40kB 18.5MB/s eta 0:00:01\r\u001b[K     |██████████████████▊             | 51kB 15.7MB/s eta 0:00:01\r\u001b[K     |██████████████████████▍         | 61kB 16.9MB/s eta 0:00:01\r\u001b[K     |██████████████████████████▏     | 71kB 14.3MB/s eta 0:00:01\r\u001b[K     |██████████████████████████████  | 81kB 14.8MB/s eta 0:00:01\r\u001b[K     |████████████████████████████████| 92kB 6.5MB/s \n",
            "\u001b[?25hRequirement already satisfied: six in /usr/local/lib/python3.6/dist-packages (from fire) (1.15.0)\n",
            "Requirement already satisfied: termcolor in /usr/local/lib/python3.6/dist-packages (from fire) (1.1.0)\n",
            "Building wheels for collected packages: fire\n",
            "  Building wheel for fire (setup.py) ... \u001b[?25l\u001b[?25hdone\n",
            "  Created wheel for fire: filename=fire-0.4.0-py2.py3-none-any.whl size=115928 sha256=fbd1eb0419dc2834df04edcf65af107ae7467f7ca353bb3094c73bdb833555d3\n",
            "  Stored in directory: /root/.cache/pip/wheels/af/19/30/1ea0cad502dcb4e66ed5a690279628c827aea38bbbab75d5ed\n",
            "Successfully built fire\n",
            "Installing collected packages: fire\n",
            "Successfully installed fire-0.4.0\n"
          ],
          "name": "stdout"
        }
      ]
    },
    {
      "cell_type": "code",
      "metadata": {
        "colab": {
          "base_uri": "https://localhost:8080/",
          "height": 53
        },
        "id": "CYUPc4Lvm_z9",
        "outputId": "5e0e2b05-c5e8-4ea3-fb0e-b24db52c3f72"
      },
      "source": [
        "import torch\r\n",
        "if torch.cuda.is_available:\r\n",
        "  print('GPU available')\r\n",
        "else:\r\n",
        "  print('Please set GPU via Edit -> Notebook Settings.')\r\n",
        "\r\n",
        "torch.cuda.get_device_name(0)"
      ],
      "execution_count": null,
      "outputs": [
        {
          "output_type": "stream",
          "text": [
            "GPU available\n"
          ],
          "name": "stdout"
        },
        {
          "output_type": "execute_result",
          "data": {
            "application/vnd.google.colaboratory.intrinsic+json": {
              "type": "string"
            },
            "text/plain": [
              "'Tesla V100-SXM2-16GB'"
            ]
          },
          "metadata": {
            "tags": []
          },
          "execution_count": 9
        }
      ]
    },
    {
      "cell_type": "code",
      "metadata": {
        "id": "pjkRoiLs3d4l"
      },
      "source": [
        "#pip install scipy==1.2.3"
      ],
      "execution_count": null,
      "outputs": []
    },
    {
      "cell_type": "code",
      "metadata": {
        "colab": {
          "base_uri": "https://localhost:8080/",
          "height": 35
        },
        "id": "BuEyz1B23XBm",
        "outputId": "b565dd05-f4e0-4dec-de79-66cd3cd68d52"
      },
      "source": [
        "import scipy\r\n",
        "scipy.__version__"
      ],
      "execution_count": null,
      "outputs": [
        {
          "output_type": "execute_result",
          "data": {
            "application/vnd.google.colaboratory.intrinsic+json": {
              "type": "string"
            },
            "text/plain": [
              "'1.2.3'"
            ]
          },
          "metadata": {
            "tags": []
          },
          "execution_count": 1
        }
      ]
    },
    {
      "cell_type": "code",
      "metadata": {
        "id": "bIqT064R0RmP"
      },
      "source": [
        "#pip install numpy==1.17.5"
      ],
      "execution_count": null,
      "outputs": []
    },
    {
      "cell_type": "code",
      "metadata": {
        "colab": {
          "base_uri": "https://localhost:8080/",
          "height": 35
        },
        "id": "BXlVPGBImSNj",
        "outputId": "2b6d3ada-adcb-4f91-a9ef-a65df3e2feef"
      },
      "source": [
        "import numpy as np\r\n",
        "np.__version__"
      ],
      "execution_count": null,
      "outputs": [
        {
          "output_type": "execute_result",
          "data": {
            "application/vnd.google.colaboratory.intrinsic+json": {
              "type": "string"
            },
            "text/plain": [
              "'1.17.5'"
            ]
          },
          "metadata": {
            "tags": []
          },
          "execution_count": 1
        }
      ]
    },
    {
      "cell_type": "code",
      "metadata": {
        "id": "LZMTKMp5dYqw"
      },
      "source": [
        "pip install -r requirements.txt"
      ],
      "execution_count": null,
      "outputs": []
    },
    {
      "cell_type": "code",
      "metadata": {
        "id": "AQLUxlJ4d6Oj"
      },
      "source": [
        "%reload_ext autoreload\r\n",
        "%autoreload 2\r\n",
        "%matplotlib inline\r\n",
        "\r\n",
        "from fastai import *\r\n",
        "from fastai.metrics import error_rate\r\n",
        "from scipy.io import loadmat\r\n",
        "import pandas as pd"
      ],
      "execution_count": null,
      "outputs": []
    },
    {
      "cell_type": "code",
      "metadata": {
        "colab": {
          "base_uri": "https://localhost:8080/",
          "height": 35
        },
        "id": "2P5963ZGohU8",
        "outputId": "2589280f-679b-4183-bb36-18c038782df4"
      },
      "source": [
        "import fastai\r\n",
        "fastai.__version__"
      ],
      "execution_count": null,
      "outputs": [
        {
          "output_type": "execute_result",
          "data": {
            "application/vnd.google.colaboratory.intrinsic+json": {
              "type": "string"
            },
            "text/plain": [
              "'1.0.53.post2'"
            ]
          },
          "metadata": {
            "tags": []
          },
          "execution_count": 4
        }
      ]
    },
    {
      "cell_type": "code",
      "metadata": {
        "id": "EIvw_7MZd5oz"
      },
      "source": [
        "## Training Data Cleaning\r\n",
        "mat_data = loadmat('cars_train_annos.mat')\r\n",
        "mat_meta = loadmat('cars_meta.mat')\r\n",
        "\r\n",
        "class_id_label = mat_data['annotations'][\"class\"].squeeze()\r\n",
        "fname = mat_data['annotations'][\"fname\"].squeeze()\r\n",
        "class_names = mat_meta['class_names'].squeeze()\r\n",
        "\r\n",
        "class_id_label_list = [class_id[0][0] for class_id in class_id_label]\r\n",
        "fname_list = [f[0] for f in fname]\r\n",
        "class_names_list = [c[0] for c in class_names]\r\n",
        "\r\n",
        "# Mapping id to classnames for verboseness\r\n",
        "class_name_label_list = [class_names_list[idx-1] for idx in class_id_label_list] \r\n",
        "\r\n",
        "train_df = pd.DataFrame(\r\n",
        "    {'fname': fname_list,\r\n",
        "     'label': class_name_label_list,\r\n",
        "    })"
      ],
      "execution_count": null,
      "outputs": []
    },
    {
      "cell_type": "code",
      "metadata": {
        "colab": {
          "base_uri": "https://localhost:8080/",
          "height": 202
        },
        "id": "IRL1TzKeuQbK",
        "outputId": "85593d49-189e-4433-ef83-f12d3f1d8b9f"
      },
      "source": [
        "train_df.head()"
      ],
      "execution_count": null,
      "outputs": [
        {
          "output_type": "execute_result",
          "data": {
            "text/html": [
              "<div>\n",
              "<style scoped>\n",
              "    .dataframe tbody tr th:only-of-type {\n",
              "        vertical-align: middle;\n",
              "    }\n",
              "\n",
              "    .dataframe tbody tr th {\n",
              "        vertical-align: top;\n",
              "    }\n",
              "\n",
              "    .dataframe thead th {\n",
              "        text-align: right;\n",
              "    }\n",
              "</style>\n",
              "<table border=\"1\" class=\"dataframe\">\n",
              "  <thead>\n",
              "    <tr style=\"text-align: right;\">\n",
              "      <th></th>\n",
              "      <th>fname</th>\n",
              "      <th>label</th>\n",
              "    </tr>\n",
              "  </thead>\n",
              "  <tbody>\n",
              "    <tr>\n",
              "      <th>0</th>\n",
              "      <td>00001.jpg</td>\n",
              "      <td>Audi TTS Coupe 2012</td>\n",
              "    </tr>\n",
              "    <tr>\n",
              "      <th>1</th>\n",
              "      <td>00002.jpg</td>\n",
              "      <td>Acura TL Sedan 2012</td>\n",
              "    </tr>\n",
              "    <tr>\n",
              "      <th>2</th>\n",
              "      <td>00003.jpg</td>\n",
              "      <td>Dodge Dakota Club Cab 2007</td>\n",
              "    </tr>\n",
              "    <tr>\n",
              "      <th>3</th>\n",
              "      <td>00004.jpg</td>\n",
              "      <td>Hyundai Sonata Hybrid Sedan 2012</td>\n",
              "    </tr>\n",
              "    <tr>\n",
              "      <th>4</th>\n",
              "      <td>00005.jpg</td>\n",
              "      <td>Ford F-450 Super Duty Crew Cab 2012</td>\n",
              "    </tr>\n",
              "  </tbody>\n",
              "</table>\n",
              "</div>"
            ],
            "text/plain": [
              "       fname                                label\n",
              "0  00001.jpg                  Audi TTS Coupe 2012\n",
              "1  00002.jpg                  Acura TL Sedan 2012\n",
              "2  00003.jpg           Dodge Dakota Club Cab 2007\n",
              "3  00004.jpg     Hyundai Sonata Hybrid Sedan 2012\n",
              "4  00005.jpg  Ford F-450 Super Duty Crew Cab 2012"
            ]
          },
          "metadata": {
            "tags": []
          },
          "execution_count": 6
        }
      ]
    },
    {
      "cell_type": "code",
      "metadata": {
        "id": "aVuDRPGSd7XP"
      },
      "source": [
        "from fastai.vision import *\r\n",
        "tfms = get_transforms()  "
      ],
      "execution_count": null,
      "outputs": []
    },
    {
      "cell_type": "code",
      "metadata": {
        "id": "dQiPWneszMUb"
      },
      "source": [
        "path = Path('/content/drive/MyDrive/ML_DL_Stuff/Concat_system/cars_train')\r\n",
        "data = (\r\n",
        "    ImageList\r\n",
        "    .from_df(df=train_df, path=path)\r\n",
        "    .split_by_rand_pct(valid_pct=0.2, seed=100) # Seed to make sure validation set is the same everytime we repeat an experiment\r\n",
        "    .label_from_df(cols=\"label\")\r\n",
        "    .transform(tfms=tfms, size=299, resize_method=ResizeMethod.SQUISH, padding_mode='reflection')\r\n",
        "    .databunch(bs=16) # Batch Size adjusted according to GPU Memory Capacity\r\n",
        "    .normalize(imagenet_stats) # Normalize Image according to ImageNet's Normalization because we are using ImageNet's pretrained model\r\n",
        ")"
      ],
      "execution_count": null,
      "outputs": []
    },
    {
      "cell_type": "code",
      "metadata": {
        "colab": {
          "base_uri": "https://localhost:8080/"
        },
        "id": "6hKvnmLl1y5C",
        "outputId": "f876ac64-8f0b-4c25-862f-a1ad4cdabef6"
      },
      "source": [
        "data"
      ],
      "execution_count": null,
      "outputs": [
        {
          "output_type": "execute_result",
          "data": {
            "text/plain": [
              "ImageDataBunch;\n",
              "\n",
              "Train: LabelList (6516 items)\n",
              "x: ImageList\n",
              "Image (3, 299, 299),Image (3, 299, 299),Image (3, 299, 299),Image (3, 299, 299),Image (3, 299, 299)\n",
              "y: CategoryList\n",
              "Audi TTS Coupe 2012,Acura TL Sedan 2012,Dodge Dakota Club Cab 2007,Hyundai Sonata Hybrid Sedan 2012,Ford F-450 Super Duty Crew Cab 2012\n",
              "Path: /content/drive/MyDrive/ML_DL_Stuff/Concat_system/stanford-car-grab-challenge/cars_train;\n",
              "\n",
              "Valid: LabelList (1628 items)\n",
              "x: ImageList\n",
              "Image (3, 299, 299),Image (3, 299, 299),Image (3, 299, 299),Image (3, 299, 299),Image (3, 299, 299)\n",
              "y: CategoryList\n",
              "Ferrari FF Coupe 2012,Rolls-Royce Ghost Sedan 2012,Isuzu Ascender SUV 2008,Dodge Charger SRT-8 2009,Chevrolet Sonic Sedan 2012\n",
              "Path: /content/drive/MyDrive/ML_DL_Stuff/Concat_system/stanford-car-grab-challenge/cars_train;\n",
              "\n",
              "Test: None"
            ]
          },
          "metadata": {
            "tags": []
          },
          "execution_count": 13
        }
      ]
    },
    {
      "cell_type": "code",
      "metadata": {
        "id": "TG2XLb0524Gk"
      },
      "source": [
        "test_path = '/content/drive/MyDrive/ML_DL_Stuff/Concat_system/cars_test'\r\n",
        "test_mat_path = download_data(url='http://imagenet.stanford.edu/internal/car196/cars_test_annos_withlabels', ext=\".mat\")"
      ],
      "execution_count": null,
      "outputs": []
    },
    {
      "cell_type": "code",
      "metadata": {
        "id": "RgIKcCwQ2UMa"
      },
      "source": [
        "mat_test = loadmat('cars_test_annos.mat')\r\n",
        "mat_test_label = loadmat(test_mat_path)\r\n",
        "\r\n",
        "test_id_label = mat_test_label['annotations'][\"class\"].squeeze()\r\n",
        "test_fname = mat_test_label['annotations'][\"fname\"].squeeze()\r\n",
        "\r\n",
        "test_id_label_list = [class_id[0][0] for class_id in test_id_label]\r\n",
        "test_fname_list = [f[0] for f in test_fname] \r\n",
        "class_names_list;\r\n",
        "\r\n",
        "# Mapping id to classnames for verboseness\r\n",
        "test_class_name_label_list = [class_names_list[idx-1] for idx in test_id_label_list] \r\n",
        "\r\n",
        "test_df = pd.DataFrame(\r\n",
        "    {'fname': test_fname_list,\r\n",
        "     'label': test_class_name_label_list,\r\n",
        "    })"
      ],
      "execution_count": null,
      "outputs": []
    },
    {
      "cell_type": "code",
      "metadata": {
        "colab": {
          "base_uri": "https://localhost:8080/",
          "height": 202
        },
        "id": "fz74l9oP2ZTU",
        "outputId": "5b53a22e-ac85-4676-ffc2-c255575c4df7"
      },
      "source": [
        "test_df.head()"
      ],
      "execution_count": null,
      "outputs": [
        {
          "output_type": "execute_result",
          "data": {
            "text/html": [
              "<div>\n",
              "<style scoped>\n",
              "    .dataframe tbody tr th:only-of-type {\n",
              "        vertical-align: middle;\n",
              "    }\n",
              "\n",
              "    .dataframe tbody tr th {\n",
              "        vertical-align: top;\n",
              "    }\n",
              "\n",
              "    .dataframe thead th {\n",
              "        text-align: right;\n",
              "    }\n",
              "</style>\n",
              "<table border=\"1\" class=\"dataframe\">\n",
              "  <thead>\n",
              "    <tr style=\"text-align: right;\">\n",
              "      <th></th>\n",
              "      <th>fname</th>\n",
              "      <th>label</th>\n",
              "    </tr>\n",
              "  </thead>\n",
              "  <tbody>\n",
              "    <tr>\n",
              "      <th>0</th>\n",
              "      <td>00001.jpg</td>\n",
              "      <td>Suzuki Aerio Sedan 2007</td>\n",
              "    </tr>\n",
              "    <tr>\n",
              "      <th>1</th>\n",
              "      <td>00002.jpg</td>\n",
              "      <td>Ferrari 458 Italia Convertible 2012</td>\n",
              "    </tr>\n",
              "    <tr>\n",
              "      <th>2</th>\n",
              "      <td>00003.jpg</td>\n",
              "      <td>Jeep Patriot SUV 2012</td>\n",
              "    </tr>\n",
              "    <tr>\n",
              "      <th>3</th>\n",
              "      <td>00004.jpg</td>\n",
              "      <td>Toyota Camry Sedan 2012</td>\n",
              "    </tr>\n",
              "    <tr>\n",
              "      <th>4</th>\n",
              "      <td>00005.jpg</td>\n",
              "      <td>Tesla Model S Sedan 2012</td>\n",
              "    </tr>\n",
              "  </tbody>\n",
              "</table>\n",
              "</div>"
            ],
            "text/plain": [
              "       fname                                label\n",
              "0  00001.jpg              Suzuki Aerio Sedan 2007\n",
              "1  00002.jpg  Ferrari 458 Italia Convertible 2012\n",
              "2  00003.jpg                Jeep Patriot SUV 2012\n",
              "3  00004.jpg              Toyota Camry Sedan 2012\n",
              "4  00005.jpg             Tesla Model S Sedan 2012"
            ]
          },
          "metadata": {
            "tags": []
          },
          "execution_count": 19
        }
      ]
    },
    {
      "cell_type": "code",
      "metadata": {
        "id": "4PueRALX3PdF"
      },
      "source": [
        "df1 = train_df\r\n",
        "df1[\"is_valid\"] = False\r\n",
        "df2 = test_df\r\n",
        "df2[\"is_valid\"] = True\r\n",
        "real_test_df = pd.concat([df1,df2])"
      ],
      "execution_count": null,
      "outputs": []
    },
    {
      "cell_type": "code",
      "metadata": {
        "colab": {
          "base_uri": "https://localhost:8080/",
          "height": 202
        },
        "id": "j6bwue623PZl",
        "outputId": "d99cbd90-6e7b-4f68-a054-9e6de0f0c93f"
      },
      "source": [
        "real_test_df.head()"
      ],
      "execution_count": null,
      "outputs": [
        {
          "output_type": "execute_result",
          "data": {
            "text/html": [
              "<div>\n",
              "<style scoped>\n",
              "    .dataframe tbody tr th:only-of-type {\n",
              "        vertical-align: middle;\n",
              "    }\n",
              "\n",
              "    .dataframe tbody tr th {\n",
              "        vertical-align: top;\n",
              "    }\n",
              "\n",
              "    .dataframe thead th {\n",
              "        text-align: right;\n",
              "    }\n",
              "</style>\n",
              "<table border=\"1\" class=\"dataframe\">\n",
              "  <thead>\n",
              "    <tr style=\"text-align: right;\">\n",
              "      <th></th>\n",
              "      <th>fname</th>\n",
              "      <th>label</th>\n",
              "      <th>is_valid</th>\n",
              "    </tr>\n",
              "  </thead>\n",
              "  <tbody>\n",
              "    <tr>\n",
              "      <th>0</th>\n",
              "      <td>00001.jpg</td>\n",
              "      <td>Audi TTS Coupe 2012</td>\n",
              "      <td>False</td>\n",
              "    </tr>\n",
              "    <tr>\n",
              "      <th>1</th>\n",
              "      <td>00002.jpg</td>\n",
              "      <td>Acura TL Sedan 2012</td>\n",
              "      <td>False</td>\n",
              "    </tr>\n",
              "    <tr>\n",
              "      <th>2</th>\n",
              "      <td>00003.jpg</td>\n",
              "      <td>Dodge Dakota Club Cab 2007</td>\n",
              "      <td>False</td>\n",
              "    </tr>\n",
              "    <tr>\n",
              "      <th>3</th>\n",
              "      <td>00004.jpg</td>\n",
              "      <td>Hyundai Sonata Hybrid Sedan 2012</td>\n",
              "      <td>False</td>\n",
              "    </tr>\n",
              "    <tr>\n",
              "      <th>4</th>\n",
              "      <td>00005.jpg</td>\n",
              "      <td>Ford F-450 Super Duty Crew Cab 2012</td>\n",
              "      <td>False</td>\n",
              "    </tr>\n",
              "  </tbody>\n",
              "</table>\n",
              "</div>"
            ],
            "text/plain": [
              "       fname                                label  is_valid\n",
              "0  00001.jpg                  Audi TTS Coupe 2012     False\n",
              "1  00002.jpg                  Acura TL Sedan 2012     False\n",
              "2  00003.jpg           Dodge Dakota Club Cab 2007     False\n",
              "3  00004.jpg     Hyundai Sonata Hybrid Sedan 2012     False\n",
              "4  00005.jpg  Ford F-450 Super Duty Crew Cab 2012     False"
            ]
          },
          "metadata": {
            "tags": []
          },
          "execution_count": 21
        }
      ]
    },
    {
      "cell_type": "code",
      "metadata": {
        "id": "aNRAhrV53abv"
      },
      "source": [
        "test_data = (\r\n",
        "    ImageList\r\n",
        "    .from_df(df=real_test_df, path=test_path)\r\n",
        "    .split_from_df()\r\n",
        "    .label_from_df(cols=\"label\")\r\n",
        "    .transform(tfms=tfms, size=299, resize_method=ResizeMethod.SQUISH, padding_mode='reflection')\r\n",
        "    .databunch(bs=16)\r\n",
        "    .normalize(imagenet_stats)\r\n",
        ")"
      ],
      "execution_count": null,
      "outputs": []
    },
    {
      "cell_type": "code",
      "metadata": {
        "id": "GXCX4yY63aTv"
      },
      "source": [
        "!python predict.py generate_csv_for_test_data --img_path=cars_test --output_fpath=test_1.csv"
      ],
      "execution_count": null,
      "outputs": []
    },
    {
      "cell_type": "code",
      "metadata": {
        "id": "JfUnyeYr-gVA"
      },
      "source": [
        "test_df.to_csv('data_with_labels.csv', columns=test_df.columns)"
      ],
      "execution_count": null,
      "outputs": []
    },
    {
      "cell_type": "code",
      "metadata": {
        "colab": {
          "base_uri": "https://localhost:8080/"
        },
        "id": "NFI5i82T7BTl",
        "outputId": "aea0673e-1809-420c-a2c9-3528204332c9"
      },
      "source": [
        "!python predict.py populate_csv_for_labelled_data --csv_path=data_with_labels.csv --img_path=cars_test --output_fpath=final.csv"
      ],
      "execution_count": null,
      "outputs": [
        {
          "output_type": "stream",
          "text": [
            "Running Inference ...\n",
            "<IPython.core.display.HTML object>\n",
            "<IPython.core.display.HTML object>\n",
            "<IPython.core.display.HTML object>\n",
            "<IPython.core.display.HTML object>\n",
            "<IPython.core.display.HTML object>\n",
            "<IPython.core.display.HTML object>\n",
            "<IPython.core.display.HTML object>\n",
            "<IPython.core.display.HTML object>\n",
            "<IPython.core.display.HTML object>\n",
            "<IPython.core.display.HTML object>\n",
            "<IPython.core.display.HTML object>\n",
            "<IPython.core.display.HTML object>\n",
            "<IPython.core.display.HTML object>\n",
            "<IPython.core.display.HTML object>\n",
            "<IPython.core.display.HTML object>\n",
            "<IPython.core.display.HTML object>\n",
            "<IPython.core.display.HTML object>\n",
            "<IPython.core.display.HTML object>\n",
            "<IPython.core.display.HTML object>\n",
            "<IPython.core.display.HTML object>\n",
            "<IPython.core.display.HTML object>\n",
            "<IPython.core.display.HTML object>\n",
            "<IPython.core.display.HTML object>\n",
            "<IPython.core.display.HTML object>\n",
            "<IPython.core.display.HTML object>\n",
            "<IPython.core.display.HTML object>\n",
            "<IPython.core.display.HTML object>\n",
            "<IPython.core.display.HTML object>\n",
            "<IPython.core.display.HTML object>\n",
            "<IPython.core.display.HTML object>\n",
            "<IPython.core.display.HTML object>\n",
            "<IPython.core.display.HTML object>\n",
            "<IPython.core.display.HTML object>\n",
            "<IPython.core.display.HTML object>\n",
            "<IPython.core.display.HTML object>\n",
            "<IPython.core.display.HTML object>\n",
            "<IPython.core.display.HTML object>\n",
            "<IPython.core.display.HTML object>\n",
            "<IPython.core.display.HTML object>\n",
            "<IPython.core.display.HTML object>\n",
            "<IPython.core.display.HTML object>\n",
            "<IPython.core.display.HTML object>\n",
            "<IPython.core.display.HTML object>\n",
            "<IPython.core.display.HTML object>\n",
            "<IPython.core.display.HTML object>\n",
            "<IPython.core.display.HTML object>\n",
            "<IPython.core.display.HTML object>\n",
            "<IPython.core.display.HTML object>\n",
            "<IPython.core.display.HTML object>\n",
            "<IPython.core.display.HTML object>\n",
            "<IPython.core.display.HTML object>\n",
            "<IPython.core.display.HTML object>\n",
            "<IPython.core.display.HTML object>\n",
            "<IPython.core.display.HTML object>\n",
            "<IPython.core.display.HTML object>\n",
            "<IPython.core.display.HTML object>\n",
            "<IPython.core.display.HTML object>\n",
            "<IPython.core.display.HTML object>\n",
            "<IPython.core.display.HTML object>\n",
            "<IPython.core.display.HTML object>\n",
            "<IPython.core.display.HTML object>\n",
            "<IPython.core.display.HTML object>\n",
            "<IPython.core.display.HTML object>\n",
            "<IPython.core.display.HTML object>\n",
            "<IPython.core.display.HTML object>\n",
            "<IPython.core.display.HTML object>\n",
            "<IPython.core.display.HTML object>\n",
            "<IPython.core.display.HTML object>\n",
            "<IPython.core.display.HTML object>\n",
            "<IPython.core.display.HTML object>\n",
            "<IPython.core.display.HTML object>\n",
            "<IPython.core.display.HTML object>\n",
            "<IPython.core.display.HTML object>\n",
            "<IPython.core.display.HTML object>\n",
            "<IPython.core.display.HTML object>\n",
            "<IPython.core.display.HTML object>\n",
            "<IPython.core.display.HTML object>\n",
            "<IPython.core.display.HTML object>\n",
            "<IPython.core.display.HTML object>\n",
            "<IPython.core.display.HTML object>\n",
            "<IPython.core.display.HTML object>\n",
            "<IPython.core.display.HTML object>\n",
            "<IPython.core.display.HTML object>\n",
            "<IPython.core.display.HTML object>\n",
            "<IPython.core.display.HTML object>\n",
            "<IPython.core.display.HTML object>\n",
            "<IPython.core.display.HTML object>\n",
            "<IPython.core.display.HTML object>\n",
            "<IPython.core.display.HTML object>\n",
            "<IPython.core.display.HTML object>\n",
            "<IPython.core.display.HTML object>\n",
            "<IPython.core.display.HTML object>\n",
            "<IPython.core.display.HTML object>\n",
            "<IPython.core.display.HTML object>\n",
            "<IPython.core.display.HTML object>\n",
            "<IPython.core.display.HTML object>\n",
            "<IPython.core.display.HTML object>\n",
            "<IPython.core.display.HTML object>\n",
            "<IPython.core.display.HTML object>\n",
            "<IPython.core.display.HTML object>\n",
            "<IPython.core.display.HTML object>\n",
            "<IPython.core.display.HTML object>\n",
            "<IPython.core.display.HTML object>\n",
            "<IPython.core.display.HTML object>\n",
            "<IPython.core.display.HTML object>\n",
            "<IPython.core.display.HTML object>\n",
            "<IPython.core.display.HTML object>\n",
            "<IPython.core.display.HTML object>\n",
            "<IPython.core.display.HTML object>\n",
            "<IPython.core.display.HTML object>\n",
            "<IPython.core.display.HTML object>\n",
            "<IPython.core.display.HTML object>\n",
            "<IPython.core.display.HTML object>\n",
            "<IPython.core.display.HTML object>\n",
            "<IPython.core.display.HTML object>\n",
            "<IPython.core.display.HTML object>\n",
            "<IPython.core.display.HTML object>\n",
            "<IPython.core.display.HTML object>\n",
            "<IPython.core.display.HTML object>\n",
            "<IPython.core.display.HTML object>\n",
            "<IPython.core.display.HTML object>\n",
            "<IPython.core.display.HTML object>\n",
            "<IPython.core.display.HTML object>\n",
            "<IPython.core.display.HTML object>\n",
            "<IPython.core.display.HTML object>\n",
            "<IPython.core.display.HTML object>\n",
            "<IPython.core.display.HTML object>\n",
            "<IPython.core.display.HTML object>\n",
            "Results saved to final.csv\n",
            "Calculating Performance\n",
            "-----------------------\n",
            "Accuracy : 92.52580524810347% \n",
            "Precision : 92.80666986539788% \n",
            "Recall : 92.52580524810347% \n",
            "f1 : 92.52470440298097%\n"
          ],
          "name": "stdout"
        }
      ]
    },
    {
      "cell_type": "code",
      "metadata": {
        "id": "JldogEvc4uEn"
      },
      "source": [
        ""
      ],
      "execution_count": null,
      "outputs": []
    }
  ]
}